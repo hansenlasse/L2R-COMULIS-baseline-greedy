{
 "cells": [
  {
   "cell_type": "code",
   "execution_count": null,
   "metadata": {},
   "outputs": [],
   "source": [
    "import json\n",
    "import SimpleITK as sitk\n",
    "import numpy as np\n",
    "import nibabel as nib\n",
    "\n",
    "greedy_path = '/Applications/greedy'\n",
    "data_path = '../data/COMULIS3DCLEM/'\n",
    "\n",
    "def affine_displacement_field(affine, shape):\n",
    "    coords = np.meshgrid(np.arange(shape[0]), np.arange(shape[1]), np.arange(shape[2]), indexing='ij')\n",
    "    coords = np.array(coords).reshape(3, -1)\n",
    "    homogeneous_coords = np.vstack([coords, np.ones((1, coords.shape[1]))])\n",
    "    displaced_coords = np.dot(affine, homogeneous_coords)\n",
    "    displacement_field = displaced_coords[:3] - coords\n",
    "    return displacement_field.reshape(3, *shape).transpose(1, 2, 3, 0)\n",
    "\n",
    "!rm -r submission\n",
    "!mkdir submission\n",
    "\n",
    "with open(data_path+'COMULIS3DCLEM_dataset.json') as f:\n",
    "    dataset_json = json.load(f)\n",
    "    for val_pair in dataset_json['registration_val']:\n",
    "        fixed_img_path = data_path + val_pair['fixed']\n",
    "        moving_img_path = data_path + val_pair['moving']\n",
    "\n",
    "        fixed_img = sitk.GetArrayFromImage(sitk.ReadImage(fixed_img_path)).transpose()\n",
    "        moving_img = sitk.GetArrayFromImage(sitk.ReadImage(moving_img_path))[0,0].transpose()\n",
    "\n",
    "        fixed_img -= fixed_img.mean()\n",
    "        fixed_img /= fixed_img.std()\n",
    "\n",
    "        moving_img -= moving_img.mean()\n",
    "        moving_img /= moving_img.std()\n",
    "        \n",
    "        sitk.WriteImage(sitk.GetImageFromArray(fixed_img), 'fix.nii.gz')\n",
    "        sitk.WriteImage(sitk.GetImageFromArray(moving_img), 'mov.nii.gz')\n",
    "\n",
    "        !{greedy_path} -d 3 -a -dof 12 -jitter 0 -search 1000 0 10 -m MI -n 5 -i fix.nii.gz mov.nii.gz -o affine.mat > /dev/null\n",
    "        \n",
    "        affine = np.loadtxt('affine.mat')\n",
    "        affine[:3, 3] = np.flip(affine[:3, 3], 0) * np.array([1, -1, -1])\n",
    "        affine[:3, :3] = np.flip(np.flip(affine[:3, :3], 0), 1) * np.array([[1, -1, -1], [-1, 1, 1], [-1, 1, 1]])\n",
    "\n",
    "        disp = affine_displacement_field(affine, moving_img.shape)\n",
    "        \n",
    "        nib.save(nib.Nifti1Image(disp.astype(np.float32), np.eye(4)), f\"submission/disp_{fixed_img_path.split('_')[1]}_{fixed_img_path.split('_')[1]}.nii.gz\")\n",
    "\n",
    "!zip -r submission.zip submission/ > /dev/null\n"
   ]
  }
 ],
 "metadata": {
  "kernelspec": {
   "display_name": "Python 3",
   "language": "python",
   "name": "python3"
  },
  "language_info": {
   "codemirror_mode": {
    "name": "ipython",
    "version": 3
   },
   "file_extension": ".py",
   "mimetype": "text/x-python",
   "name": "python",
   "nbconvert_exporter": "python",
   "pygments_lexer": "ipython3",
   "version": "3.9.19"
  }
 },
 "nbformat": 4,
 "nbformat_minor": 2
}
